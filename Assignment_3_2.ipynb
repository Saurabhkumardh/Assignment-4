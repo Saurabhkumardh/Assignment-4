{
  "nbformat": 4,
  "nbformat_minor": 0,
  "metadata": {
    "colab": {
      "provenance": []
    },
    "kernelspec": {
      "name": "python3",
      "display_name": "Python 3"
    },
    "language_info": {
      "name": "python"
    }
  },
  "cells": [
    {
      "cell_type": "markdown",
      "source": [
        "Question 1"
      ],
      "metadata": {
        "id": "0e3LDssQgQdj"
      }
    },
    {
      "cell_type": "code",
      "source": [
        "\n",
        "players = [('Sachin Tendulkar', 34357), ('Ricky Ponting', 27483), ('Jack Kallis', 25534), ('Virat Kohli', 24936)]\n",
        "sorted_players = sorted(players, key=lambda x: x[1])\n",
        "for player in sorted_players:\n",
        "    print(player)\n"
      ],
      "metadata": {
        "colab": {
          "base_uri": "https://localhost:8080/"
        },
        "id": "xWbv2WsRgSqo",
        "outputId": "6c95389c-15b8-4ec8-d460-7c008a9df7db"
      },
      "execution_count": 1,
      "outputs": [
        {
          "output_type": "stream",
          "name": "stdout",
          "text": [
            "('Virat Kohli', 24936)\n",
            "('Jack Kallis', 25534)\n",
            "('Ricky Ponting', 27483)\n",
            "('Sachin Tendulkar', 34357)\n"
          ]
        }
      ]
    },
    {
      "cell_type": "markdown",
      "source": [
        "Question 2"
      ],
      "metadata": {
        "id": "3ib9H5j2gz6E"
      }
    },
    {
      "cell_type": "code",
      "source": [
        "l=[1, 2, 3,  4, 5, 6, 7, 8, 9, 10]\n",
        "l2=map(lambda x:x**2,l)\n",
        "list(l2)"
      ],
      "metadata": {
        "colab": {
          "base_uri": "https://localhost:8080/"
        },
        "id": "YNZ6Wckog2rI",
        "outputId": "3f78cd76-cd39-4af3-c953-365bdae7e31f"
      },
      "execution_count": 4,
      "outputs": [
        {
          "output_type": "execute_result",
          "data": {
            "text/plain": [
              "[1, 4, 9, 16, 25, 36, 49, 64, 81, 100]"
            ]
          },
          "metadata": {},
          "execution_count": 4
        }
      ]
    },
    {
      "cell_type": "markdown",
      "source": [
        "Question 3"
      ],
      "metadata": {
        "id": "Wqfw3cpqhfXi"
      }
    },
    {
      "cell_type": "code",
      "source": [
        "numbers = [1, 2, 3, 4, 5, 6, 7, 8, 9, 10]\n",
        "tuple_of_strings = tuple(map(lambda x: str(x), numbers))\n",
        "print(tuple_of_strings)"
      ],
      "metadata": {
        "id": "xsTLK9aBhjTk"
      },
      "execution_count": null,
      "outputs": []
    },
    {
      "cell_type": "markdown",
      "source": [
        "Question 4"
      ],
      "metadata": {
        "id": "6NXxPra0iBYH"
      }
    },
    {
      "cell_type": "code",
      "source": [
        "from functools import reduce\n",
        "def multiply(x, y):\n",
        "    return x * y\n",
        "numbers = list(range(1, 26))\n",
        "\n",
        "product = reduce(multiply, numbers)"
      ],
      "metadata": {
        "id": "ERx8gCJJiDej"
      },
      "execution_count": 5,
      "outputs": []
    },
    {
      "cell_type": "markdown",
      "source": [
        "Question 5"
      ],
      "metadata": {
        "id": "Hik96I6Qih5x"
      }
    },
    {
      "cell_type": "code",
      "source": [
        "numbers = [2, 3, 6, 9, 27, 60, 90, 120, 55, 46]\n",
        "filtered_numbers = list(filter(lambda x: x % 2 == 0 and x % 3 == 0, numbers))"
      ],
      "metadata": {
        "id": "bcVvzeOdi2Ak"
      },
      "execution_count": 6,
      "outputs": []
    },
    {
      "cell_type": "markdown",
      "source": [
        "Question 6"
      ],
      "metadata": {
        "id": "NbPTZj1hi6DU"
      }
    },
    {
      "cell_type": "code",
      "source": [
        "\n",
        "strings = ['python', 'php', 'aba', 'radar', 'level']\n",
        "is_palindrome = lambda s: s == s[::-1]\n",
        "palindromes = list(filter(is_palindrome, strings))\n",
        "\n"
      ],
      "metadata": {
        "id": "ikK2Uhh7i8GI"
      },
      "execution_count": null,
      "outputs": []
    }
  ]
}